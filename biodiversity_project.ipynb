{
 "cells": [
  {
   "cell_type": "markdown",
   "metadata": {},
   "source": [
    "# Objectives"
   ]
  },
  {
   "cell_type": "markdown",
   "metadata": {},
   "source": [
    "Questions to answer with the observations data: \n",
    "\n",
    "*Descriptive Questions: \\\n",
    "--How much is the total number of observations in the last 7 days across all parks ? \\\n",
    "--How are the observations in the last 7 days distrubuted across the parks ? \\\n",
    "--What's the most/least observed species across all parks ? \\\n",
    "--Which species were the most/least observed in each park ? \\\n",
    "--Which is the most observed species in the last 7 days for each park ? \n",
    "\n",
    "*Inferentiel Questions: \\\n",
    "--Is the number of observations in the last 7 days associated with the park name ? \n",
    "\n",
    "Questions to answer with the species_info data: \n",
    "\n",
    "*Descriptive Questions: \\\n",
    "--Most frequent Species category \\\n",
    "--Conservation_status Species \\\n",
    "--Species category for each conservation_status \n",
    "\n",
    "*Inferentiel Questions: \\\n",
    "--is species conservation_status associated with it's category ? "
   ]
  },
  {
   "cell_type": "markdown",
   "metadata": {},
   "source": [
    "# Importing Libs + loading dfs"
   ]
  },
  {
   "cell_type": "code",
   "execution_count": 1,
   "metadata": {},
   "outputs": [],
   "source": [
    "import pandas as pd\n",
    "import numpy as np\n",
    "import matplotlib.pyplot as plt\n",
    "import seaborn as sns\n",
    "import scipy.stats\n",
    "from statsmodels.stats.multicomp import pairwise_tukeyhsd\n",
    "from scipy.stats import chi2_contingency"
   ]
  },
  {
   "cell_type": "code",
   "execution_count": 2,
   "metadata": {},
   "outputs": [
    {
     "data": {
      "text/html": [
       "<div>\n",
       "<style scoped>\n",
       "    .dataframe tbody tr th:only-of-type {\n",
       "        vertical-align: middle;\n",
       "    }\n",
       "\n",
       "    .dataframe tbody tr th {\n",
       "        vertical-align: top;\n",
       "    }\n",
       "\n",
       "    .dataframe thead th {\n",
       "        text-align: right;\n",
       "    }\n",
       "</style>\n",
       "<table border=\"1\" class=\"dataframe\">\n",
       "  <thead>\n",
       "    <tr style=\"text-align: right;\">\n",
       "      <th></th>\n",
       "      <th>scientific_name</th>\n",
       "      <th>park_name</th>\n",
       "      <th>observations</th>\n",
       "    </tr>\n",
       "  </thead>\n",
       "  <tbody>\n",
       "    <tr>\n",
       "      <th>0</th>\n",
       "      <td>Vicia benghalensis</td>\n",
       "      <td>Great Smoky Mountains National Park</td>\n",
       "      <td>68</td>\n",
       "    </tr>\n",
       "    <tr>\n",
       "      <th>1</th>\n",
       "      <td>Neovison vison</td>\n",
       "      <td>Great Smoky Mountains National Park</td>\n",
       "      <td>77</td>\n",
       "    </tr>\n",
       "    <tr>\n",
       "      <th>2</th>\n",
       "      <td>Prunus subcordata</td>\n",
       "      <td>Yosemite National Park</td>\n",
       "      <td>138</td>\n",
       "    </tr>\n",
       "    <tr>\n",
       "      <th>3</th>\n",
       "      <td>Abutilon theophrasti</td>\n",
       "      <td>Bryce National Park</td>\n",
       "      <td>84</td>\n",
       "    </tr>\n",
       "    <tr>\n",
       "      <th>4</th>\n",
       "      <td>Githopsis specularioides</td>\n",
       "      <td>Great Smoky Mountains National Park</td>\n",
       "      <td>85</td>\n",
       "    </tr>\n",
       "  </tbody>\n",
       "</table>\n",
       "</div>"
      ],
      "text/plain": [
       "            scientific_name                            park_name  observations\n",
       "0        Vicia benghalensis  Great Smoky Mountains National Park            68\n",
       "1            Neovison vison  Great Smoky Mountains National Park            77\n",
       "2         Prunus subcordata               Yosemite National Park           138\n",
       "3      Abutilon theophrasti                  Bryce National Park            84\n",
       "4  Githopsis specularioides  Great Smoky Mountains National Park            85"
      ]
     },
     "execution_count": 2,
     "metadata": {},
     "output_type": "execute_result"
    }
   ],
   "source": [
    "observations = pd.read_csv('observations.csv')\n",
    "species_info = pd.read_csv('species_info.csv')\n",
    "observations = observations.drop_duplicates()\n",
    "species_info = species_info.drop_duplicates()\n",
    "\n",
    "observations.head()"
   ]
  },
  {
   "cell_type": "markdown",
   "metadata": {},
   "source": [
    "DataFrame observations: Each row represents the number of observations for a species in a certain park"
   ]
  },
  {
   "cell_type": "code",
   "execution_count": 3,
   "metadata": {},
   "outputs": [
    {
     "data": {
      "text/html": [
       "<div>\n",
       "<style scoped>\n",
       "    .dataframe tbody tr th:only-of-type {\n",
       "        vertical-align: middle;\n",
       "    }\n",
       "\n",
       "    .dataframe tbody tr th {\n",
       "        vertical-align: top;\n",
       "    }\n",
       "\n",
       "    .dataframe thead th {\n",
       "        text-align: right;\n",
       "    }\n",
       "</style>\n",
       "<table border=\"1\" class=\"dataframe\">\n",
       "  <thead>\n",
       "    <tr style=\"text-align: right;\">\n",
       "      <th></th>\n",
       "      <th>category</th>\n",
       "      <th>scientific_name</th>\n",
       "      <th>common_names</th>\n",
       "      <th>conservation_status</th>\n",
       "    </tr>\n",
       "  </thead>\n",
       "  <tbody>\n",
       "    <tr>\n",
       "      <th>0</th>\n",
       "      <td>Mammal</td>\n",
       "      <td>Clethrionomys gapperi gapperi</td>\n",
       "      <td>Gapper's Red-Backed Vole</td>\n",
       "      <td>NaN</td>\n",
       "    </tr>\n",
       "    <tr>\n",
       "      <th>1</th>\n",
       "      <td>Mammal</td>\n",
       "      <td>Bos bison</td>\n",
       "      <td>American Bison, Bison</td>\n",
       "      <td>NaN</td>\n",
       "    </tr>\n",
       "    <tr>\n",
       "      <th>2</th>\n",
       "      <td>Mammal</td>\n",
       "      <td>Bos taurus</td>\n",
       "      <td>Aurochs, Aurochs, Domestic Cattle (Feral), Dom...</td>\n",
       "      <td>NaN</td>\n",
       "    </tr>\n",
       "    <tr>\n",
       "      <th>3</th>\n",
       "      <td>Mammal</td>\n",
       "      <td>Ovis aries</td>\n",
       "      <td>Domestic Sheep, Mouflon, Red Sheep, Sheep (Feral)</td>\n",
       "      <td>NaN</td>\n",
       "    </tr>\n",
       "    <tr>\n",
       "      <th>4</th>\n",
       "      <td>Mammal</td>\n",
       "      <td>Cervus elaphus</td>\n",
       "      <td>Wapiti Or Elk</td>\n",
       "      <td>NaN</td>\n",
       "    </tr>\n",
       "  </tbody>\n",
       "</table>\n",
       "</div>"
      ],
      "text/plain": [
       "  category                scientific_name  \\\n",
       "0   Mammal  Clethrionomys gapperi gapperi   \n",
       "1   Mammal                      Bos bison   \n",
       "2   Mammal                     Bos taurus   \n",
       "3   Mammal                     Ovis aries   \n",
       "4   Mammal                 Cervus elaphus   \n",
       "\n",
       "                                        common_names conservation_status  \n",
       "0                           Gapper's Red-Backed Vole                 NaN  \n",
       "1                              American Bison, Bison                 NaN  \n",
       "2  Aurochs, Aurochs, Domestic Cattle (Feral), Dom...                 NaN  \n",
       "3  Domestic Sheep, Mouflon, Red Sheep, Sheep (Feral)                 NaN  \n",
       "4                                      Wapiti Or Elk                 NaN  "
      ]
     },
     "execution_count": 3,
     "metadata": {},
     "output_type": "execute_result"
    }
   ],
   "source": [
    "species_info.head()"
   ]
  },
  {
   "cell_type": "markdown",
   "metadata": {},
   "source": [
    "DataFrame species: Each row represents information about a species"
   ]
  },
  {
   "cell_type": "markdown",
   "metadata": {},
   "source": [
    "# Analysis"
   ]
  },
  {
   "cell_type": "markdown",
   "metadata": {},
   "source": [
    "## Observations DataFrame"
   ]
  },
  {
   "cell_type": "markdown",
   "metadata": {},
   "source": [
    "### Descriptive questions:"
   ]
  },
  {
   "cell_type": "markdown",
   "metadata": {},
   "source": [
    " -How much is the total number of observations in the last 7 days across all parks ?"
   ]
  },
  {
   "cell_type": "code",
   "execution_count": 28,
   "metadata": {},
   "outputs": [
    {
     "name": "stdout",
     "output_type": "stream",
     "text": [
      "<class 'pandas.core.frame.DataFrame'>\n",
      "Int64Index: 23281 entries, 0 to 23295\n",
      "Data columns (total 3 columns):\n",
      " #   Column           Non-Null Count  Dtype \n",
      "---  ------           --------------  ----- \n",
      " 0   scientific_name  23281 non-null  object\n",
      " 1   park_name        23281 non-null  object\n",
      " 2   observations     23281 non-null  int64 \n",
      "dtypes: int64(1), object(2)\n",
      "memory usage: 727.5+ KB\n"
     ]
    }
   ],
   "source": [
    "observations.info()"
   ]
  },
  {
   "cell_type": "code",
   "execution_count": 4,
   "metadata": {},
   "outputs": [
    {
     "data": {
      "text/plain": [
       "3312429"
      ]
     },
     "execution_count": 4,
     "metadata": {},
     "output_type": "execute_result"
    }
   ],
   "source": [
    "observations.observations.sum()"
   ]
  },
  {
   "cell_type": "markdown",
   "metadata": {},
   "source": [
    " -How are the sum of observations in the last 7 days distrubuted across the parks ?"
   ]
  },
  {
   "cell_type": "code",
   "execution_count": 5,
   "metadata": {},
   "outputs": [
    {
     "data": {
      "image/png": "[encoded data removed]",
      "text/plain": [
       "<Figure size 432x288 with 1 Axes>"
      ]
     },
     "metadata": {
      "needs_background": "light"
     },
     "output_type": "display_data"
    }
   ],
   "source": [
    "park_sum_observations = observations.groupby(['park_name']).observations.sum().reset_index().sort_values(by='observations', ascending=False)\n",
    "\n",
    "sns.barplot(x=park_sum_observations.park_name, y=park_sum_observations.observations, order=park_sum_observations['park_name'])\n",
    "plt.ylabel('sum of observations in millions')\n",
    "plt.xticks(rotation = 45)\n",
    "plt.show()"
   ]
  },
  {
   "cell_type": "markdown",
   "metadata": {},
   "source": [
    "-Distribution of the observations column across all parks"
   ]
  },
  {
   "cell_type": "code",
   "execution_count": 6,
   "metadata": {},
   "outputs": [
    {
     "data": {
      "image/png": "[encoded data removed]",
      "text/plain": [
       "<Figure size 720x432 with 1 Axes>"
      ]
     },
     "metadata": {
      "needs_background": "light"
     },
     "output_type": "display_data"
    }
   ],
   "source": [
    "plt.figure(figsize=(10,6))\n",
    "plt.hist(observations.observations[observations.park_name=='Yellowstone National Park'], alpha=0.5, label='Yellowstone National Park')\n",
    "plt.hist(observations.observations[observations.park_name=='Yosemite National Park'], alpha=0.5, label='Yosemite National Park')\n",
    "plt.hist(observations.observations[observations.park_name=='Bryce National Park'], alpha=0.5, label='Bryce National Park')\n",
    "plt.hist(observations.observations[observations.park_name=='Great Smoky Mountains National Park'], alpha=0.5, label='Great Smoky Mountains National Park')\n",
    "plt.title('Distribution of the observations acroos all parks')\n",
    "plt.xlabel('observations')\n",
    "plt.ylabel('frequencies')\n",
    "plt.legend()\n",
    "plt.show()"
   ]
  },
  {
   "cell_type": "markdown",
   "metadata": {},
   "source": [
    " -What's the most/least observed species across all parks ?"
   ]
  },
  {
   "cell_type": "code",
   "execution_count": 7,
   "metadata": {},
   "outputs": [
    {
     "name": "stdout",
     "output_type": "stream",
     "text": [
      "most observed species: Holcus lanatus\n",
      "Least observed species: Grus americana\n"
     ]
    }
   ],
   "source": [
    "df = observations.groupby(['scientific_name']).observations.sum().reset_index().sort_values(by='observations', ascending=False)\n",
    "print('most observed species:', df.iloc[0][0])\n",
    "\n",
    "df = observations.groupby(['scientific_name']).observations.sum().reset_index().sort_values(by='observations', ascending=True)\n",
    "print('Least observed species:', df.iloc[0][0])"
   ]
  },
  {
   "cell_type": "markdown",
   "metadata": {},
   "source": [
    " -Which species were the most/least observed in each park ?"
   ]
  },
  {
   "cell_type": "code",
   "execution_count": 8,
   "metadata": {},
   "outputs": [
    {
     "name": "stdout",
     "output_type": "stream",
     "text": [
      "'Valerianella radiata' was the most observed species for the 'Bryce National Park' with 176 observations.\n",
      "'Sonchus asper ssp. asper' was the most observed species for the 'Great Smoky Mountains National Park' with 147 observations.\n",
      "'Lycopodium tristachyum' was the most observed species for the 'Yellowstone National Park' with 321 observations.\n",
      "'Ivesia shockleyi var. shockleyi' was the most observed species for the 'Yosemite National Park' with 223 observations.\n"
     ]
    }
   ],
   "source": [
    "# Most observed\n",
    "parks_max_observations = observations.groupby(['park_name']).observations.max().reset_index()\n",
    "parks_max_observations_species = parks_max_observations.merge(observations, on=['park_name', 'observations'])\n",
    "\n",
    "for i in parks_max_observations_species.values:\n",
    "    print(\"'{}' was the most observed species for the '{}' with {} observations.\" .format(i[2], i[0], i[1]))"
   ]
  },
  {
   "cell_type": "code",
   "execution_count": 9,
   "metadata": {},
   "outputs": [
    {
     "name": "stdout",
     "output_type": "stream",
     "text": [
      "'Corydalis aurea' was the least observed species for the 'Bryce National Park' with 9 observations.\n",
      "'Collomia tinctoria' was the least observed species for the 'Great Smoky Mountains National Park' with 10 observations.\n",
      "'Grus americana' was the least observed species for the 'Yellowstone National Park' with 57 observations.\n",
      "'Noturus baileyi' was the least observed species for the 'Yosemite National Park' with 31 observations.\n"
     ]
    }
   ],
   "source": [
    "# Least observed\n",
    "parks_min_observations = observations.groupby(['park_name']).observations.min().reset_index()\n",
    "parks_min_observations_species = parks_min_observations.merge(observations, on=['park_name', 'observations'])\n",
    "\n",
    "for i in parks_min_observations_species.values:\n",
    "    print(\"'{}' was the least observed species for the '{}' with {} observations.\" .format(i[2], i[0], i[1]))"
   ]
  },
  {
   "cell_type": "markdown",
   "metadata": {},
   "source": [
    "### Inferentiel questions"
   ]
  },
  {
   "cell_type": "code",
   "execution_count": 10,
   "metadata": {},
   "outputs": [
    {
     "data": {
      "text/plain": [
       "array(['Great Smoky Mountains National Park', 'Yosemite National Park',\n",
       "       'Bryce National Park', 'Yellowstone National Park'], dtype=object)"
      ]
     },
     "execution_count": 10,
     "metadata": {},
     "output_type": "execute_result"
    }
   ],
   "source": [
    "observations.park_name.unique()"
   ]
  },
  {
   "cell_type": "markdown",
   "metadata": {},
   "source": [
    " -Is the number of observations in the last 7 days associated with the park name ?"
   ]
  },
  {
   "cell_type": "code",
   "execution_count": 11,
   "metadata": {},
   "outputs": [
    {
     "name": "stdout",
     "output_type": "stream",
     "text": [
      "23.175947412133002\n",
      "21.22054469873767\n",
      "20.761238686735766\n",
      "20.323467181702732\n"
     ]
    }
   ],
   "source": [
    "### Meeting the assumptions of T-Tests, ANOVA, and Tukey:\n",
    "# 1. The observations should be independently randomly sampled from the population DONE!\n",
    "# 2. The standard deviations of the groups should be equal\n",
    "print(observations.observations[observations.park_name=='Yellowstone National Park'].std())\n",
    "print(observations.observations[observations.park_name=='Yosemite National Park'].std())\n",
    "print(observations.observations[observations.park_name=='Bryce National Park'].std())\n",
    "print(observations.observations[observations.park_name=='Great Smoky Mountains National Park'].std())\n",
    "# 3. The data should be normally distributed…ish    DONE!\n",
    "# 4. The groups created by the categorical variable must be independent"
   ]
  },
  {
   "cell_type": "code",
   "execution_count": 12,
   "metadata": {},
   "outputs": [
    {
     "data": {
      "text/plain": [
       "F_onewayResult(statistic=75014.12663046071, pvalue=0.0)"
      ]
     },
     "execution_count": 12,
     "metadata": {},
     "output_type": "execute_result"
    }
   ],
   "source": [
    "scipy.stats.f_oneway(\n",
    "    observations.observations[observations.park_name=='Great Smoky Mountains National Park'], \n",
    "    observations.observations[observations.park_name=='Yosemite National Park'],\n",
    "    observations.observations[observations.park_name=='Bryce National Park'],\n",
    "    observations.observations[observations.park_name=='Yellowstone National Park']\n",
    "    )"
   ]
  },
  {
   "cell_type": "markdown",
   "metadata": {},
   "source": [
    "Since the pvalue is less than .05, we have sufficient evidence to say that the mean values across each group are not equal. \\\n",
    "Thus, we can proceed to perform Tukey’s Test to determine exactly which group means are different."
   ]
  },
  {
   "cell_type": "code",
   "execution_count": 13,
   "metadata": {},
   "outputs": [
    {
     "name": "stdout",
     "output_type": "stream",
     "text": [
      "                              Multiple Comparison of Means - Tukey HSD, FWER=0.05                               \n",
      "================================================================================================================\n",
      "               group1                              group2               meandiff p-adj   lower    upper   reject\n",
      "----------------------------------------------------------------------------------------------------------------\n",
      "                Bryce National Park Great Smoky Mountains National Park -24.7557 0.001  -25.7747 -23.7366   True\n",
      "                Bryce National Park           Yellowstone National Park 148.9618 0.001  147.9427 149.9808   True\n",
      "                Bryce National Park              Yosemite National Park  49.3271 0.001   48.3081   50.346   True\n",
      "Great Smoky Mountains National Park           Yellowstone National Park 173.7175 0.001  172.6982 174.7367   True\n",
      "Great Smoky Mountains National Park              Yosemite National Park  74.0827 0.001   73.0636  75.1019   True\n",
      "          Yellowstone National Park              Yosemite National Park -99.6347 0.001 -100.6538 -98.6156   True\n",
      "----------------------------------------------------------------------------------------------------------------\n"
     ]
    }
   ],
   "source": [
    "tukey = pairwise_tukeyhsd(endog=observations['observations'],\n",
    "                          groups=observations['park_name'],\n",
    "                          alpha=0.05)\n",
    "print(tukey)"
   ]
  },
  {
   "cell_type": "markdown",
   "metadata": {},
   "source": [
    "Since we have a pvalue that is less than .05 across each park and the other, we have sufficient evidence to say in our case the park name and the number of observations in the last 7 days are associated"
   ]
  },
  {
   "cell_type": "markdown",
   "metadata": {},
   "source": [
    "## Species_info DataFrame"
   ]
  },
  {
   "cell_type": "markdown",
   "metadata": {},
   "source": [
    "### Descriptive questions:"
   ]
  },
  {
   "cell_type": "markdown",
   "metadata": {},
   "source": [
    " -Most frequent Species category"
   ]
  },
  {
   "cell_type": "code",
   "execution_count": 14,
   "metadata": {},
   "outputs": [
    {
     "name": "stderr",
     "output_type": "stream",
     "text": [
      "c:\\Users\\Oussama ZIDI\\anaconda3\\lib\\site-packages\\seaborn\\_decorators.py:36: FutureWarning: Pass the following variable as a keyword arg: x. From version 0.12, the only valid positional argument will be `data`, and passing other arguments without an explicit keyword will result in an error or misinterpretation.\n",
      "  warnings.warn(\n"
     ]
    },
    {
     "data": {
      "image/png": "[encoded data removed]",
      "text/plain": [
       "<Figure size 432x288 with 1 Axes>"
      ]
     },
     "metadata": {
      "needs_background": "light"
     },
     "output_type": "display_data"
    }
   ],
   "source": [
    "sns.countplot(species_info.category, order=species_info.category.value_counts().index)\n",
    "plt.xticks(rotation = 45)\n",
    "plt.show()"
   ]
  },
  {
   "cell_type": "markdown",
   "metadata": {},
   "source": [
    " -Species conservation_status"
   ]
  },
  {
   "cell_type": "code",
   "execution_count": 15,
   "metadata": {},
   "outputs": [
    {
     "name": "stderr",
     "output_type": "stream",
     "text": [
      "c:\\Users\\Oussama ZIDI\\anaconda3\\lib\\site-packages\\seaborn\\_decorators.py:36: FutureWarning: Pass the following variable as a keyword arg: x. From version 0.12, the only valid positional argument will be `data`, and passing other arguments without an explicit keyword will result in an error or misinterpretation.\n",
      "  warnings.warn(\n"
     ]
    },
    {
     "data": {
      "image/png": "[encoded data removed]",
      "text/plain": [
       "<Figure size 432x288 with 1 Axes>"
      ]
     },
     "metadata": {
      "needs_background": "light"
     },
     "output_type": "display_data"
    }
   ],
   "source": [
    "species_info_Intervention = species_info.conservation_status.reset_index()\n",
    "\n",
    "sns.countplot(species_info_Intervention.conservation_status, order=species_info_Intervention.conservation_status.value_counts().index)\n",
    "plt.xticks(rotation = 45)\n",
    "plt.show()"
   ]
  },
  {
   "cell_type": "markdown",
   "metadata": {},
   "source": [
    " -Species conservation_status (Without No_intervention)"
   ]
  },
  {
   "cell_type": "code",
   "execution_count": 16,
   "metadata": {},
   "outputs": [],
   "source": [
    "species_info.conservation_status = species_info.conservation_status.fillna('No_Intervention')"
   ]
  },
  {
   "cell_type": "code",
   "execution_count": 17,
   "metadata": {},
   "outputs": [
    {
     "name": "stderr",
     "output_type": "stream",
     "text": [
      "c:\\Users\\Oussama ZIDI\\anaconda3\\lib\\site-packages\\seaborn\\_decorators.py:36: FutureWarning: Pass the following variable as a keyword arg: x. From version 0.12, the only valid positional argument will be `data`, and passing other arguments without an explicit keyword will result in an error or misinterpretation.\n",
      "  warnings.warn(\n"
     ]
    },
    {
     "data": {
      "image/png": "[encoded data removed]",
      "text/plain": [
       "<Figure size 432x288 with 1 Axes>"
      ]
     },
     "metadata": {
      "needs_background": "light"
     },
     "output_type": "display_data"
    }
   ],
   "source": [
    "species_info_Intervention = species_info[species_info.conservation_status != 'No_Intervention']\n",
    "\n",
    "sns.countplot(species_info_Intervention.conservation_status, order=species_info_Intervention.conservation_status.value_counts().index)\n",
    "plt.xticks(rotation = 45)\n",
    "plt.show()"
   ]
  },
  {
   "cell_type": "markdown",
   "metadata": {},
   "source": [
    "Species category for each conservation_status"
   ]
  },
  {
   "cell_type": "code",
   "execution_count": 18,
   "metadata": {},
   "outputs": [
    {
     "data": {
      "image/png": "[encoded data removed]",
      "text/plain": [
       "<Figure size 432x288 with 1 Axes>"
      ]
     },
     "metadata": {
      "needs_background": "light"
     },
     "output_type": "display_data"
    }
   ],
   "source": [
    "sns.countplot(data=species_info_Intervention, x='conservation_status', hue='category')\n",
    "plt.legend(loc=1)\n",
    "plt.xticks(rotation = 45)\n",
    "plt.show()"
   ]
  },
  {
   "cell_type": "markdown",
   "metadata": {},
   "source": [
    "### Inferentiel questions:"
   ]
  },
  {
   "cell_type": "markdown",
   "metadata": {},
   "source": [
    "--is species conservation_status associated with it's category ? "
   ]
  },
  {
   "cell_type": "code",
   "execution_count": 19,
   "metadata": {},
   "outputs": [],
   "source": [
    "## Assumptions of a Chi-Square Test\n",
    "# 1. The observations should be independently randomly sampled from the population      DONE!\n",
    "# 2. The categories of both variables must be mutually exclusive        DONE!\n",
    "# 3. The groups should be independent       DONE!"
   ]
  },
  {
   "cell_type": "code",
   "execution_count": 20,
   "metadata": {},
   "outputs": [
    {
     "data": {
      "text/html": [
       "<div>\n",
       "<style scoped>\n",
       "    .dataframe tbody tr th:only-of-type {\n",
       "        vertical-align: middle;\n",
       "    }\n",
       "\n",
       "    .dataframe tbody tr th {\n",
       "        vertical-align: top;\n",
       "    }\n",
       "\n",
       "    .dataframe thead th {\n",
       "        text-align: right;\n",
       "    }\n",
       "</style>\n",
       "<table border=\"1\" class=\"dataframe\">\n",
       "  <thead>\n",
       "    <tr style=\"text-align: right;\">\n",
       "      <th>conservation_status</th>\n",
       "      <th>Species of Concern</th>\n",
       "      <th>Endangered</th>\n",
       "      <th>Threatened</th>\n",
       "      <th>In Recovery</th>\n",
       "    </tr>\n",
       "    <tr>\n",
       "      <th>category</th>\n",
       "      <th></th>\n",
       "      <th></th>\n",
       "      <th></th>\n",
       "      <th></th>\n",
       "    </tr>\n",
       "  </thead>\n",
       "  <tbody>\n",
       "    <tr>\n",
       "      <th>Bird</th>\n",
       "      <td>72</td>\n",
       "      <td>4</td>\n",
       "      <td>0</td>\n",
       "      <td>3</td>\n",
       "    </tr>\n",
       "    <tr>\n",
       "      <th>Vascular Plant</th>\n",
       "      <td>43</td>\n",
       "      <td>1</td>\n",
       "      <td>2</td>\n",
       "      <td>0</td>\n",
       "    </tr>\n",
       "    <tr>\n",
       "      <th>Mammal</th>\n",
       "      <td>28</td>\n",
       "      <td>7</td>\n",
       "      <td>2</td>\n",
       "      <td>1</td>\n",
       "    </tr>\n",
       "    <tr>\n",
       "      <th>Nonvascular Plant</th>\n",
       "      <td>5</td>\n",
       "      <td>0</td>\n",
       "      <td>0</td>\n",
       "      <td>0</td>\n",
       "    </tr>\n",
       "    <tr>\n",
       "      <th>Reptile</th>\n",
       "      <td>5</td>\n",
       "      <td>0</td>\n",
       "      <td>0</td>\n",
       "      <td>0</td>\n",
       "    </tr>\n",
       "    <tr>\n",
       "      <th>Fish</th>\n",
       "      <td>4</td>\n",
       "      <td>3</td>\n",
       "      <td>4</td>\n",
       "      <td>0</td>\n",
       "    </tr>\n",
       "    <tr>\n",
       "      <th>Amphibian</th>\n",
       "      <td>4</td>\n",
       "      <td>1</td>\n",
       "      <td>2</td>\n",
       "      <td>0</td>\n",
       "    </tr>\n",
       "  </tbody>\n",
       "</table>\n",
       "</div>"
      ],
      "text/plain": [
       "conservation_status  Species of Concern  Endangered  Threatened  In Recovery\n",
       "category                                                                    \n",
       "Bird                                 72           4           0            3\n",
       "Vascular Plant                       43           1           2            0\n",
       "Mammal                               28           7           2            1\n",
       "Nonvascular Plant                     5           0           0            0\n",
       "Reptile                               5           0           0            0\n",
       "Fish                                  4           3           4            0\n",
       "Amphibian                             4           1           2            0"
      ]
     },
     "execution_count": 20,
     "metadata": {},
     "output_type": "execute_result"
    }
   ],
   "source": [
    "cross_tab = pd.crosstab(species_info_Intervention['category'],\n",
    "                            species_info_Intervention['conservation_status'], \n",
    "                               margins = False).sort_values(by=['Species of Concern', 'Endangered'], ascending=[False, False])\n",
    "cross_tab = cross_tab[['Species of Concern', 'Endangered', 'Threatened', 'In Recovery']]\n",
    "cross_tab"
   ]
  },
  {
   "cell_type": "code",
   "execution_count": 21,
   "metadata": {},
   "outputs": [
    {
     "name": "stdout",
     "output_type": "stream",
     "text": [
      "p value is 1.8909788349761653e-05\n",
      "Dependent (reject H0)\n"
     ]
    }
   ],
   "source": [
    "stat, p, dof, expected = chi2_contingency(cross_tab)\n",
    "  \n",
    "# interpret p-value\n",
    "alpha = 0.05\n",
    "print(\"p value is \" + str(p))\n",
    "if p <= alpha:\n",
    "    print('Dependent (reject H0)')\n",
    "else:\n",
    "    print('Independent (H0 holds true)')"
   ]
  },
  {
   "cell_type": "markdown",
   "metadata": {},
   "source": [
    "The variables (Species category) and (conservation_status) do have a significant relation"
   ]
  },
  {
   "cell_type": "code",
   "execution_count": 22,
   "metadata": {},
   "outputs": [
    {
     "data": {
      "text/html": [
       "<div>\n",
       "<style scoped>\n",
       "    .dataframe tbody tr th:only-of-type {\n",
       "        vertical-align: middle;\n",
       "    }\n",
       "\n",
       "    .dataframe tbody tr th {\n",
       "        vertical-align: top;\n",
       "    }\n",
       "\n",
       "    .dataframe thead th {\n",
       "        text-align: right;\n",
       "    }\n",
       "</style>\n",
       "<table border=\"1\" class=\"dataframe\">\n",
       "  <thead>\n",
       "    <tr style=\"text-align: right;\">\n",
       "      <th></th>\n",
       "      <th>category</th>\n",
       "      <th>scientific_name</th>\n",
       "      <th>common_names</th>\n",
       "      <th>conservation_status</th>\n",
       "    </tr>\n",
       "  </thead>\n",
       "  <tbody>\n",
       "    <tr>\n",
       "      <th>7</th>\n",
       "      <td>Mammal</td>\n",
       "      <td>Canis latrans</td>\n",
       "      <td>Coyote</td>\n",
       "      <td>Species of Concern</td>\n",
       "    </tr>\n",
       "    <tr>\n",
       "      <th>8</th>\n",
       "      <td>Mammal</td>\n",
       "      <td>Canis lupus</td>\n",
       "      <td>Gray Wolf</td>\n",
       "      <td>Endangered</td>\n",
       "    </tr>\n",
       "    <tr>\n",
       "      <th>9</th>\n",
       "      <td>Mammal</td>\n",
       "      <td>Canis rufus</td>\n",
       "      <td>Red Wolf</td>\n",
       "      <td>Endangered</td>\n",
       "    </tr>\n",
       "    <tr>\n",
       "      <th>29</th>\n",
       "      <td>Mammal</td>\n",
       "      <td>Eptesicus fuscus</td>\n",
       "      <td>Big Brown Bat</td>\n",
       "      <td>Species of Concern</td>\n",
       "    </tr>\n",
       "    <tr>\n",
       "      <th>30</th>\n",
       "      <td>Mammal</td>\n",
       "      <td>Lasionycteris noctivagans</td>\n",
       "      <td>Silver-Haired Bat</td>\n",
       "      <td>Species of Concern</td>\n",
       "    </tr>\n",
       "    <tr>\n",
       "      <th>...</th>\n",
       "      <td>...</td>\n",
       "      <td>...</td>\n",
       "      <td>...</td>\n",
       "      <td>...</td>\n",
       "    </tr>\n",
       "    <tr>\n",
       "      <th>5302</th>\n",
       "      <td>Vascular Plant</td>\n",
       "      <td>Callitriche marginata</td>\n",
       "      <td>Winged Water-Starwort</td>\n",
       "      <td>Species of Concern</td>\n",
       "    </tr>\n",
       "    <tr>\n",
       "      <th>5399</th>\n",
       "      <td>Vascular Plant</td>\n",
       "      <td>Camissonia sierrae ssp. alticola</td>\n",
       "      <td>Mono Hot Springs Evening Primrose, Mono Hot Sp...</td>\n",
       "      <td>Species of Concern</td>\n",
       "    </tr>\n",
       "    <tr>\n",
       "      <th>5426</th>\n",
       "      <td>Vascular Plant</td>\n",
       "      <td>Epilobium oreganum</td>\n",
       "      <td>Grants Pass Willowherb, Oregon Fireweed</td>\n",
       "      <td>Species of Concern</td>\n",
       "    </tr>\n",
       "    <tr>\n",
       "      <th>5436</th>\n",
       "      <td>Vascular Plant</td>\n",
       "      <td>Botrychium ascendens</td>\n",
       "      <td>Trianglelobe Moonwort, Upswept Moonwort</td>\n",
       "      <td>Species of Concern</td>\n",
       "    </tr>\n",
       "    <tr>\n",
       "      <th>5676</th>\n",
       "      <td>Vascular Plant</td>\n",
       "      <td>Romneya coulteri</td>\n",
       "      <td>Coulter's Matilija Poppy</td>\n",
       "      <td>Species of Concern</td>\n",
       "    </tr>\n",
       "  </tbody>\n",
       "</table>\n",
       "<p>191 rows × 4 columns</p>\n",
       "</div>"
      ],
      "text/plain": [
       "            category                   scientific_name  \\\n",
       "7             Mammal                     Canis latrans   \n",
       "8             Mammal                       Canis lupus   \n",
       "9             Mammal                       Canis rufus   \n",
       "29            Mammal                  Eptesicus fuscus   \n",
       "30            Mammal         Lasionycteris noctivagans   \n",
       "...              ...                               ...   \n",
       "5302  Vascular Plant             Callitriche marginata   \n",
       "5399  Vascular Plant  Camissonia sierrae ssp. alticola   \n",
       "5426  Vascular Plant                Epilobium oreganum   \n",
       "5436  Vascular Plant              Botrychium ascendens   \n",
       "5676  Vascular Plant                  Romneya coulteri   \n",
       "\n",
       "                                           common_names conservation_status  \n",
       "7                                                Coyote  Species of Concern  \n",
       "8                                             Gray Wolf          Endangered  \n",
       "9                                              Red Wolf          Endangered  \n",
       "29                                        Big Brown Bat  Species of Concern  \n",
       "30                                    Silver-Haired Bat  Species of Concern  \n",
       "...                                                 ...                 ...  \n",
       "5302                              Winged Water-Starwort  Species of Concern  \n",
       "5399  Mono Hot Springs Evening Primrose, Mono Hot Sp...  Species of Concern  \n",
       "5426            Grants Pass Willowherb, Oregon Fireweed  Species of Concern  \n",
       "5436            Trianglelobe Moonwort, Upswept Moonwort  Species of Concern  \n",
       "5676                           Coulter's Matilija Poppy  Species of Concern  \n",
       "\n",
       "[191 rows x 4 columns]"
      ]
     },
     "execution_count": 22,
     "metadata": {},
     "output_type": "execute_result"
    }
   ],
   "source": [
    "species_info_Intervention"
   ]
  },
  {
   "cell_type": "code",
   "execution_count": 23,
   "metadata": {},
   "outputs": [
    {
     "data": {
      "text/plain": [
       "Species of Concern    161\n",
       "Endangered             16\n",
       "Threatened             10\n",
       "In Recovery             4\n",
       "Name: conservation_status, dtype: int64"
      ]
     },
     "execution_count": 23,
     "metadata": {},
     "output_type": "execute_result"
    }
   ],
   "source": [
    "species_info_Intervention.conservation_status.value_counts()"
   ]
  },
  {
   "cell_type": "code",
   "execution_count": 24,
   "metadata": {},
   "outputs": [
    {
     "data": {
      "text/html": [
       "<div>\n",
       "<style scoped>\n",
       "    .dataframe tbody tr th:only-of-type {\n",
       "        vertical-align: middle;\n",
       "    }\n",
       "\n",
       "    .dataframe tbody tr th {\n",
       "        vertical-align: top;\n",
       "    }\n",
       "\n",
       "    .dataframe thead th {\n",
       "        text-align: right;\n",
       "    }\n",
       "</style>\n",
       "<table border=\"1\" class=\"dataframe\">\n",
       "  <thead>\n",
       "    <tr style=\"text-align: right;\">\n",
       "      <th></th>\n",
       "      <th>scientific_name</th>\n",
       "      <th>park_name</th>\n",
       "      <th>observations</th>\n",
       "      <th>category</th>\n",
       "      <th>common_names</th>\n",
       "      <th>conservation_status</th>\n",
       "    </tr>\n",
       "  </thead>\n",
       "  <tbody>\n",
       "    <tr>\n",
       "      <th>201</th>\n",
       "      <td>Canis lupus</td>\n",
       "      <td>Yosemite National Park</td>\n",
       "      <td>35</td>\n",
       "      <td>Mammal</td>\n",
       "      <td>Gray Wolf, Wolf</td>\n",
       "      <td>In Recovery</td>\n",
       "    </tr>\n",
       "    <tr>\n",
       "      <th>204</th>\n",
       "      <td>Canis lupus</td>\n",
       "      <td>Bryce National Park</td>\n",
       "      <td>27</td>\n",
       "      <td>Mammal</td>\n",
       "      <td>Gray Wolf, Wolf</td>\n",
       "      <td>In Recovery</td>\n",
       "    </tr>\n",
       "    <tr>\n",
       "      <th>207</th>\n",
       "      <td>Canis lupus</td>\n",
       "      <td>Bryce National Park</td>\n",
       "      <td>29</td>\n",
       "      <td>Mammal</td>\n",
       "      <td>Gray Wolf, Wolf</td>\n",
       "      <td>In Recovery</td>\n",
       "    </tr>\n",
       "    <tr>\n",
       "      <th>210</th>\n",
       "      <td>Canis lupus</td>\n",
       "      <td>Bryce National Park</td>\n",
       "      <td>74</td>\n",
       "      <td>Mammal</td>\n",
       "      <td>Gray Wolf, Wolf</td>\n",
       "      <td>In Recovery</td>\n",
       "    </tr>\n",
       "    <tr>\n",
       "      <th>213</th>\n",
       "      <td>Canis lupus</td>\n",
       "      <td>Great Smoky Mountains National Park</td>\n",
       "      <td>15</td>\n",
       "      <td>Mammal</td>\n",
       "      <td>Gray Wolf, Wolf</td>\n",
       "      <td>In Recovery</td>\n",
       "    </tr>\n",
       "    <tr>\n",
       "      <th>216</th>\n",
       "      <td>Canis lupus</td>\n",
       "      <td>Yellowstone National Park</td>\n",
       "      <td>60</td>\n",
       "      <td>Mammal</td>\n",
       "      <td>Gray Wolf, Wolf</td>\n",
       "      <td>In Recovery</td>\n",
       "    </tr>\n",
       "    <tr>\n",
       "      <th>219</th>\n",
       "      <td>Canis lupus</td>\n",
       "      <td>Yellowstone National Park</td>\n",
       "      <td>67</td>\n",
       "      <td>Mammal</td>\n",
       "      <td>Gray Wolf, Wolf</td>\n",
       "      <td>In Recovery</td>\n",
       "    </tr>\n",
       "    <tr>\n",
       "      <th>222</th>\n",
       "      <td>Canis lupus</td>\n",
       "      <td>Yellowstone National Park</td>\n",
       "      <td>203</td>\n",
       "      <td>Mammal</td>\n",
       "      <td>Gray Wolf, Wolf</td>\n",
       "      <td>In Recovery</td>\n",
       "    </tr>\n",
       "    <tr>\n",
       "      <th>225</th>\n",
       "      <td>Canis lupus</td>\n",
       "      <td>Great Smoky Mountains National Park</td>\n",
       "      <td>14</td>\n",
       "      <td>Mammal</td>\n",
       "      <td>Gray Wolf, Wolf</td>\n",
       "      <td>In Recovery</td>\n",
       "    </tr>\n",
       "    <tr>\n",
       "      <th>228</th>\n",
       "      <td>Canis lupus</td>\n",
       "      <td>Yosemite National Park</td>\n",
       "      <td>117</td>\n",
       "      <td>Mammal</td>\n",
       "      <td>Gray Wolf, Wolf</td>\n",
       "      <td>In Recovery</td>\n",
       "    </tr>\n",
       "    <tr>\n",
       "      <th>231</th>\n",
       "      <td>Canis lupus</td>\n",
       "      <td>Yosemite National Park</td>\n",
       "      <td>44</td>\n",
       "      <td>Mammal</td>\n",
       "      <td>Gray Wolf, Wolf</td>\n",
       "      <td>In Recovery</td>\n",
       "    </tr>\n",
       "    <tr>\n",
       "      <th>234</th>\n",
       "      <td>Canis lupus</td>\n",
       "      <td>Great Smoky Mountains National Park</td>\n",
       "      <td>30</td>\n",
       "      <td>Mammal</td>\n",
       "      <td>Gray Wolf, Wolf</td>\n",
       "      <td>In Recovery</td>\n",
       "    </tr>\n",
       "    <tr>\n",
       "      <th>360</th>\n",
       "      <td>Falco peregrinus anatum</td>\n",
       "      <td>Bryce National Park</td>\n",
       "      <td>72</td>\n",
       "      <td>Bird</td>\n",
       "      <td>American Peregrine Falcon</td>\n",
       "      <td>In Recovery</td>\n",
       "    </tr>\n",
       "    <tr>\n",
       "      <th>361</th>\n",
       "      <td>Falco peregrinus anatum</td>\n",
       "      <td>Yellowstone National Park</td>\n",
       "      <td>176</td>\n",
       "      <td>Bird</td>\n",
       "      <td>American Peregrine Falcon</td>\n",
       "      <td>In Recovery</td>\n",
       "    </tr>\n",
       "    <tr>\n",
       "      <th>362</th>\n",
       "      <td>Falco peregrinus anatum</td>\n",
       "      <td>Great Smoky Mountains National Park</td>\n",
       "      <td>70</td>\n",
       "      <td>Bird</td>\n",
       "      <td>American Peregrine Falcon</td>\n",
       "      <td>In Recovery</td>\n",
       "    </tr>\n",
       "    <tr>\n",
       "      <th>363</th>\n",
       "      <td>Falco peregrinus anatum</td>\n",
       "      <td>Yosemite National Park</td>\n",
       "      <td>152</td>\n",
       "      <td>Bird</td>\n",
       "      <td>American Peregrine Falcon</td>\n",
       "      <td>In Recovery</td>\n",
       "    </tr>\n",
       "    <tr>\n",
       "      <th>504</th>\n",
       "      <td>Haliaeetus leucocephalus</td>\n",
       "      <td>Bryce National Park</td>\n",
       "      <td>94</td>\n",
       "      <td>Bird</td>\n",
       "      <td>Bald Eagle</td>\n",
       "      <td>In Recovery</td>\n",
       "    </tr>\n",
       "    <tr>\n",
       "      <th>505</th>\n",
       "      <td>Haliaeetus leucocephalus</td>\n",
       "      <td>Yellowstone National Park</td>\n",
       "      <td>187</td>\n",
       "      <td>Bird</td>\n",
       "      <td>Bald Eagle</td>\n",
       "      <td>In Recovery</td>\n",
       "    </tr>\n",
       "    <tr>\n",
       "      <th>506</th>\n",
       "      <td>Haliaeetus leucocephalus</td>\n",
       "      <td>Yosemite National Park</td>\n",
       "      <td>112</td>\n",
       "      <td>Bird</td>\n",
       "      <td>Bald Eagle</td>\n",
       "      <td>In Recovery</td>\n",
       "    </tr>\n",
       "    <tr>\n",
       "      <th>507</th>\n",
       "      <td>Haliaeetus leucocephalus</td>\n",
       "      <td>Great Smoky Mountains National Park</td>\n",
       "      <td>72</td>\n",
       "      <td>Bird</td>\n",
       "      <td>Bald Eagle</td>\n",
       "      <td>In Recovery</td>\n",
       "    </tr>\n",
       "    <tr>\n",
       "      <th>836</th>\n",
       "      <td>Pelecanus occidentalis</td>\n",
       "      <td>Bryce National Park</td>\n",
       "      <td>92</td>\n",
       "      <td>Bird</td>\n",
       "      <td>Brown Pelican</td>\n",
       "      <td>In Recovery</td>\n",
       "    </tr>\n",
       "    <tr>\n",
       "      <th>837</th>\n",
       "      <td>Pelecanus occidentalis</td>\n",
       "      <td>Great Smoky Mountains National Park</td>\n",
       "      <td>47</td>\n",
       "      <td>Bird</td>\n",
       "      <td>Brown Pelican</td>\n",
       "      <td>In Recovery</td>\n",
       "    </tr>\n",
       "    <tr>\n",
       "      <th>838</th>\n",
       "      <td>Pelecanus occidentalis</td>\n",
       "      <td>Yosemite National Park</td>\n",
       "      <td>122</td>\n",
       "      <td>Bird</td>\n",
       "      <td>Brown Pelican</td>\n",
       "      <td>In Recovery</td>\n",
       "    </tr>\n",
       "    <tr>\n",
       "      <th>839</th>\n",
       "      <td>Pelecanus occidentalis</td>\n",
       "      <td>Yellowstone National Park</td>\n",
       "      <td>196</td>\n",
       "      <td>Bird</td>\n",
       "      <td>Brown Pelican</td>\n",
       "      <td>In Recovery</td>\n",
       "    </tr>\n",
       "  </tbody>\n",
       "</table>\n",
       "</div>"
      ],
      "text/plain": [
       "              scientific_name                            park_name  \\\n",
       "201               Canis lupus               Yosemite National Park   \n",
       "204               Canis lupus                  Bryce National Park   \n",
       "207               Canis lupus                  Bryce National Park   \n",
       "210               Canis lupus                  Bryce National Park   \n",
       "213               Canis lupus  Great Smoky Mountains National Park   \n",
       "216               Canis lupus            Yellowstone National Park   \n",
       "219               Canis lupus            Yellowstone National Park   \n",
       "222               Canis lupus            Yellowstone National Park   \n",
       "225               Canis lupus  Great Smoky Mountains National Park   \n",
       "228               Canis lupus               Yosemite National Park   \n",
       "231               Canis lupus               Yosemite National Park   \n",
       "234               Canis lupus  Great Smoky Mountains National Park   \n",
       "360   Falco peregrinus anatum                  Bryce National Park   \n",
       "361   Falco peregrinus anatum            Yellowstone National Park   \n",
       "362   Falco peregrinus anatum  Great Smoky Mountains National Park   \n",
       "363   Falco peregrinus anatum               Yosemite National Park   \n",
       "504  Haliaeetus leucocephalus                  Bryce National Park   \n",
       "505  Haliaeetus leucocephalus            Yellowstone National Park   \n",
       "506  Haliaeetus leucocephalus               Yosemite National Park   \n",
       "507  Haliaeetus leucocephalus  Great Smoky Mountains National Park   \n",
       "836    Pelecanus occidentalis                  Bryce National Park   \n",
       "837    Pelecanus occidentalis  Great Smoky Mountains National Park   \n",
       "838    Pelecanus occidentalis               Yosemite National Park   \n",
       "839    Pelecanus occidentalis            Yellowstone National Park   \n",
       "\n",
       "     observations category               common_names conservation_status  \n",
       "201            35   Mammal            Gray Wolf, Wolf         In Recovery  \n",
       "204            27   Mammal            Gray Wolf, Wolf         In Recovery  \n",
       "207            29   Mammal            Gray Wolf, Wolf         In Recovery  \n",
       "210            74   Mammal            Gray Wolf, Wolf         In Recovery  \n",
       "213            15   Mammal            Gray Wolf, Wolf         In Recovery  \n",
       "216            60   Mammal            Gray Wolf, Wolf         In Recovery  \n",
       "219            67   Mammal            Gray Wolf, Wolf         In Recovery  \n",
       "222           203   Mammal            Gray Wolf, Wolf         In Recovery  \n",
       "225            14   Mammal            Gray Wolf, Wolf         In Recovery  \n",
       "228           117   Mammal            Gray Wolf, Wolf         In Recovery  \n",
       "231            44   Mammal            Gray Wolf, Wolf         In Recovery  \n",
       "234            30   Mammal            Gray Wolf, Wolf         In Recovery  \n",
       "360            72     Bird  American Peregrine Falcon         In Recovery  \n",
       "361           176     Bird  American Peregrine Falcon         In Recovery  \n",
       "362            70     Bird  American Peregrine Falcon         In Recovery  \n",
       "363           152     Bird  American Peregrine Falcon         In Recovery  \n",
       "504            94     Bird                 Bald Eagle         In Recovery  \n",
       "505           187     Bird                 Bald Eagle         In Recovery  \n",
       "506           112     Bird                 Bald Eagle         In Recovery  \n",
       "507            72     Bird                 Bald Eagle         In Recovery  \n",
       "836            92     Bird              Brown Pelican         In Recovery  \n",
       "837            47     Bird              Brown Pelican         In Recovery  \n",
       "838           122     Bird              Brown Pelican         In Recovery  \n",
       "839           196     Bird              Brown Pelican         In Recovery  "
      ]
     },
     "execution_count": 24,
     "metadata": {},
     "output_type": "execute_result"
    }
   ],
   "source": [
    "new_df = pd.merge(left=observations, right=species_info_Intervention, how='inner', left_on='scientific_name', right_on='scientific_name')\n",
    "\n",
    "new_df[new_df['conservation_status']=='In Recovery']"
   ]
  },
  {
   "cell_type": "code",
   "execution_count": null,
   "metadata": {},
   "outputs": [],
   "source": []
  },
  {
   "cell_type": "code",
   "execution_count": null,
   "metadata": {},
   "outputs": [],
   "source": []
  },
  {
   "cell_type": "markdown",
   "metadata": {},
   "source": [
    "# Addons"
   ]
  },
  {
   "cell_type": "markdown",
   "metadata": {},
   "source": [
    "## Top 5 species (number of observations) for each category"
   ]
  },
  {
   "cell_type": "code",
   "execution_count": 25,
   "metadata": {},
   "outputs": [
    {
     "data": {
      "text/html": [
       "<div>\n",
       "<style scoped>\n",
       "    .dataframe tbody tr th:only-of-type {\n",
       "        vertical-align: middle;\n",
       "    }\n",
       "\n",
       "    .dataframe tbody tr th {\n",
       "        vertical-align: top;\n",
       "    }\n",
       "\n",
       "    .dataframe thead th {\n",
       "        text-align: right;\n",
       "    }\n",
       "</style>\n",
       "<table border=\"1\" class=\"dataframe\">\n",
       "  <thead>\n",
       "    <tr style=\"text-align: right;\">\n",
       "      <th></th>\n",
       "      <th>scientific_name</th>\n",
       "      <th>park_name</th>\n",
       "      <th>observations</th>\n",
       "      <th>category</th>\n",
       "      <th>common_names</th>\n",
       "      <th>conservation_status</th>\n",
       "    </tr>\n",
       "  </thead>\n",
       "  <tbody>\n",
       "    <tr>\n",
       "      <th>20600</th>\n",
       "      <td>Ambystoma opacum</td>\n",
       "      <td>Yellowstone National Park</td>\n",
       "      <td>301</td>\n",
       "      <td>Amphibian</td>\n",
       "      <td>Marbled Salamander</td>\n",
       "      <td>No_Intervention</td>\n",
       "    </tr>\n",
       "    <tr>\n",
       "      <th>16144</th>\n",
       "      <td>Notophthalmus viridescens viridescens</td>\n",
       "      <td>Yellowstone National Park</td>\n",
       "      <td>291</td>\n",
       "      <td>Amphibian</td>\n",
       "      <td>Eastern Red-Spotted Newt</td>\n",
       "      <td>No_Intervention</td>\n",
       "    </tr>\n",
       "    <tr>\n",
       "      <th>4753</th>\n",
       "      <td>Ambystoma mavortium melanostictum</td>\n",
       "      <td>Yellowstone National Park</td>\n",
       "      <td>287</td>\n",
       "      <td>Amphibian</td>\n",
       "      <td>Blotched Tiger Salamander</td>\n",
       "      <td>No_Intervention</td>\n",
       "    </tr>\n",
       "    <tr>\n",
       "      <th>16921</th>\n",
       "      <td>Pseudotriton ruber schencki</td>\n",
       "      <td>Yellowstone National Park</td>\n",
       "      <td>282</td>\n",
       "      <td>Amphibian</td>\n",
       "      <td>Blackchin Red Salamander</td>\n",
       "      <td>No_Intervention</td>\n",
       "    </tr>\n",
       "    <tr>\n",
       "      <th>20589</th>\n",
       "      <td>Batrachoseps diabolicus</td>\n",
       "      <td>Yellowstone National Park</td>\n",
       "      <td>282</td>\n",
       "      <td>Amphibian</td>\n",
       "      <td>Hell Hollow Slender Salamander</td>\n",
       "      <td>No_Intervention</td>\n",
       "    </tr>\n",
       "  </tbody>\n",
       "</table>\n",
       "</div>"
      ],
      "text/plain": [
       "                             scientific_name                  park_name  \\\n",
       "20600                       Ambystoma opacum  Yellowstone National Park   \n",
       "16144  Notophthalmus viridescens viridescens  Yellowstone National Park   \n",
       "4753       Ambystoma mavortium melanostictum  Yellowstone National Park   \n",
       "16921            Pseudotriton ruber schencki  Yellowstone National Park   \n",
       "20589                Batrachoseps diabolicus  Yellowstone National Park   \n",
       "\n",
       "       observations   category                    common_names  \\\n",
       "20600           301  Amphibian              Marbled Salamander   \n",
       "16144           291  Amphibian        Eastern Red-Spotted Newt   \n",
       "4753            287  Amphibian       Blotched Tiger Salamander   \n",
       "16921           282  Amphibian        Blackchin Red Salamander   \n",
       "20589           282  Amphibian  Hell Hollow Slender Salamander   \n",
       "\n",
       "      conservation_status  \n",
       "20600     No_Intervention  \n",
       "16144     No_Intervention  \n",
       "4753      No_Intervention  \n",
       "16921     No_Intervention  \n",
       "20589     No_Intervention  "
      ]
     },
     "execution_count": 25,
     "metadata": {},
     "output_type": "execute_result"
    }
   ],
   "source": [
    "all_data = pd.merge(left=observations, right=species_info)\n",
    "all_data = all_data.sort_values(by=['category', 'observations'], ascending=[True, False])\n",
    "all_data.head()"
   ]
  },
  {
   "cell_type": "code",
   "execution_count": 26,
   "metadata": {},
   "outputs": [
    {
     "data": {
      "text/html": [
       "<div>\n",
       "<style scoped>\n",
       "    .dataframe tbody tr th:only-of-type {\n",
       "        vertical-align: middle;\n",
       "    }\n",
       "\n",
       "    .dataframe tbody tr th {\n",
       "        vertical-align: top;\n",
       "    }\n",
       "\n",
       "    .dataframe thead th {\n",
       "        text-align: right;\n",
       "    }\n",
       "</style>\n",
       "<table border=\"1\" class=\"dataframe\">\n",
       "  <thead>\n",
       "    <tr style=\"text-align: right;\">\n",
       "      <th></th>\n",
       "      <th>scientific_name</th>\n",
       "      <th>park_name</th>\n",
       "      <th>observations</th>\n",
       "      <th>category</th>\n",
       "      <th>common_names</th>\n",
       "      <th>conservation_status</th>\n",
       "    </tr>\n",
       "  </thead>\n",
       "  <tbody>\n",
       "    <tr>\n",
       "      <th>11604</th>\n",
       "      <td>Lycopodium tristachyum</td>\n",
       "      <td>Yellowstone National Park</td>\n",
       "      <td>321</td>\n",
       "      <td>Vascular Plant</td>\n",
       "      <td>Deep-Root Clubmoss, Ground Cedar</td>\n",
       "      <td>No_Intervention</td>\n",
       "    </tr>\n",
       "    <tr>\n",
       "      <th>5498</th>\n",
       "      <td>Castilleja miniata</td>\n",
       "      <td>Yellowstone National Park</td>\n",
       "      <td>317</td>\n",
       "      <td>Vascular Plant</td>\n",
       "      <td>Giant Red Indian Paintbrush, Great Red Indian ...</td>\n",
       "      <td>No_Intervention</td>\n",
       "    </tr>\n",
       "    <tr>\n",
       "      <th>3363</th>\n",
       "      <td>Cryptantha fendleri</td>\n",
       "      <td>Yellowstone National Park</td>\n",
       "      <td>316</td>\n",
       "      <td>Vascular Plant</td>\n",
       "      <td>Fendler's Cryptantha, Sanddune Catseye, Sanddu...</td>\n",
       "      <td>No_Intervention</td>\n",
       "    </tr>\n",
       "    <tr>\n",
       "      <th>22211</th>\n",
       "      <td>Dracocephalum parviflorum</td>\n",
       "      <td>Yellowstone National Park</td>\n",
       "      <td>316</td>\n",
       "      <td>Vascular Plant</td>\n",
       "      <td>American Dragonhead</td>\n",
       "      <td>No_Intervention</td>\n",
       "    </tr>\n",
       "    <tr>\n",
       "      <th>20317</th>\n",
       "      <td>Bidens tripartita</td>\n",
       "      <td>Yellowstone National Park</td>\n",
       "      <td>314</td>\n",
       "      <td>Vascular Plant</td>\n",
       "      <td>Stick-Tight, Three-Lobe Beggar-Ticks</td>\n",
       "      <td>No_Intervention</td>\n",
       "    </tr>\n",
       "    <tr>\n",
       "      <th>2476</th>\n",
       "      <td>Spinus lawrencei</td>\n",
       "      <td>Yellowstone National Park</td>\n",
       "      <td>305</td>\n",
       "      <td>Bird</td>\n",
       "      <td>Lawrence's Goldfinch</td>\n",
       "      <td>No_Intervention</td>\n",
       "    </tr>\n",
       "    <tr>\n",
       "      <th>16419</th>\n",
       "      <td>Aythya americana</td>\n",
       "      <td>Yellowstone National Park</td>\n",
       "      <td>304</td>\n",
       "      <td>Bird</td>\n",
       "      <td>Redhead</td>\n",
       "      <td>No_Intervention</td>\n",
       "    </tr>\n",
       "    <tr>\n",
       "      <th>6069</th>\n",
       "      <td>Perdix perdix</td>\n",
       "      <td>Yellowstone National Park</td>\n",
       "      <td>300</td>\n",
       "      <td>Bird</td>\n",
       "      <td>Gray Partridge, Grey Partridge</td>\n",
       "      <td>No_Intervention</td>\n",
       "    </tr>\n",
       "    <tr>\n",
       "      <th>11477</th>\n",
       "      <td>Myiarchus crinitus</td>\n",
       "      <td>Yellowstone National Park</td>\n",
       "      <td>298</td>\n",
       "      <td>Bird</td>\n",
       "      <td>Great Crested Flycatcher</td>\n",
       "      <td>No_Intervention</td>\n",
       "    </tr>\n",
       "    <tr>\n",
       "      <th>21679</th>\n",
       "      <td>Setophaga coronata</td>\n",
       "      <td>Yellowstone National Park</td>\n",
       "      <td>298</td>\n",
       "      <td>Bird</td>\n",
       "      <td>Yellow-Rumped Warbler</td>\n",
       "      <td>No_Intervention</td>\n",
       "    </tr>\n",
       "    <tr>\n",
       "      <th>19951</th>\n",
       "      <td>Pogonatum brachyphyllum</td>\n",
       "      <td>Yellowstone National Park</td>\n",
       "      <td>307</td>\n",
       "      <td>Nonvascular Plant</td>\n",
       "      <td>Pogonatum Moss</td>\n",
       "      <td>No_Intervention</td>\n",
       "    </tr>\n",
       "    <tr>\n",
       "      <th>23300</th>\n",
       "      <td>Forsstroemia trichomitria</td>\n",
       "      <td>Yellowstone National Park</td>\n",
       "      <td>300</td>\n",
       "      <td>Nonvascular Plant</td>\n",
       "      <td>Forsstroemia Moss</td>\n",
       "      <td>No_Intervention</td>\n",
       "    </tr>\n",
       "    <tr>\n",
       "      <th>3111</th>\n",
       "      <td>Ulota crispa</td>\n",
       "      <td>Yellowstone National Park</td>\n",
       "      <td>293</td>\n",
       "      <td>Nonvascular Plant</td>\n",
       "      <td>Ulota Moss</td>\n",
       "      <td>No_Intervention</td>\n",
       "    </tr>\n",
       "    <tr>\n",
       "      <th>3916</th>\n",
       "      <td>Platylomella lescurii</td>\n",
       "      <td>Yellowstone National Park</td>\n",
       "      <td>293</td>\n",
       "      <td>Nonvascular Plant</td>\n",
       "      <td>Lescur's Platylomella Moss</td>\n",
       "      <td>No_Intervention</td>\n",
       "    </tr>\n",
       "    <tr>\n",
       "      <th>13853</th>\n",
       "      <td>Lophocolea muricata</td>\n",
       "      <td>Yellowstone National Park</td>\n",
       "      <td>293</td>\n",
       "      <td>Nonvascular Plant</td>\n",
       "      <td>Liverwort</td>\n",
       "      <td>No_Intervention</td>\n",
       "    </tr>\n",
       "    <tr>\n",
       "      <th>3721</th>\n",
       "      <td>Lasiurus borealis</td>\n",
       "      <td>Yellowstone National Park</td>\n",
       "      <td>296</td>\n",
       "      <td>Mammal</td>\n",
       "      <td>Eastern Red Bat, Red Bat</td>\n",
       "      <td>No_Intervention</td>\n",
       "    </tr>\n",
       "    <tr>\n",
       "      <th>13561</th>\n",
       "      <td>Vulpes vulpes necator</td>\n",
       "      <td>Yellowstone National Park</td>\n",
       "      <td>294</td>\n",
       "      <td>Mammal</td>\n",
       "      <td>Sierra Nevada Red Fox</td>\n",
       "      <td>No_Intervention</td>\n",
       "    </tr>\n",
       "    <tr>\n",
       "      <th>12279</th>\n",
       "      <td>Sorex cinereus</td>\n",
       "      <td>Yellowstone National Park</td>\n",
       "      <td>293</td>\n",
       "      <td>Mammal</td>\n",
       "      <td>Common Shrew, Masked Shrew</td>\n",
       "      <td>No_Intervention</td>\n",
       "    </tr>\n",
       "    <tr>\n",
       "      <th>12280</th>\n",
       "      <td>Sorex cinereus</td>\n",
       "      <td>Yellowstone National Park</td>\n",
       "      <td>293</td>\n",
       "      <td>Mammal</td>\n",
       "      <td>Cinereus Shrew, Common Shrew, Masked Shrew</td>\n",
       "      <td>No_Intervention</td>\n",
       "    </tr>\n",
       "    <tr>\n",
       "      <th>18678</th>\n",
       "      <td>Neotamias amoenus</td>\n",
       "      <td>Yellowstone National Park</td>\n",
       "      <td>293</td>\n",
       "      <td>Mammal</td>\n",
       "      <td>Yellow Pine Chipmunk</td>\n",
       "      <td>No_Intervention</td>\n",
       "    </tr>\n",
       "    <tr>\n",
       "      <th>11757</th>\n",
       "      <td>Etheostoma sanguifluum</td>\n",
       "      <td>Yellowstone National Park</td>\n",
       "      <td>300</td>\n",
       "      <td>Fish</td>\n",
       "      <td>Bloodfin Darter, Spotted Darter</td>\n",
       "      <td>No_Intervention</td>\n",
       "    </tr>\n",
       "    <tr>\n",
       "      <th>2503</th>\n",
       "      <td>Gila atraria</td>\n",
       "      <td>Yellowstone National Park</td>\n",
       "      <td>296</td>\n",
       "      <td>Fish</td>\n",
       "      <td>Utah Chub</td>\n",
       "      <td>No_Intervention</td>\n",
       "    </tr>\n",
       "    <tr>\n",
       "      <th>3580</th>\n",
       "      <td>Notropis photogenis</td>\n",
       "      <td>Yellowstone National Park</td>\n",
       "      <td>294</td>\n",
       "      <td>Fish</td>\n",
       "      <td>Silver Shiner</td>\n",
       "      <td>No_Intervention</td>\n",
       "    </tr>\n",
       "    <tr>\n",
       "      <th>15135</th>\n",
       "      <td>Etheostoma swannanoa</td>\n",
       "      <td>Yellowstone National Park</td>\n",
       "      <td>293</td>\n",
       "      <td>Fish</td>\n",
       "      <td>Swannanoa Darter</td>\n",
       "      <td>No_Intervention</td>\n",
       "    </tr>\n",
       "    <tr>\n",
       "      <th>1180</th>\n",
       "      <td>Stizostedion canadense</td>\n",
       "      <td>Yellowstone National Park</td>\n",
       "      <td>286</td>\n",
       "      <td>Fish</td>\n",
       "      <td>Sauger</td>\n",
       "      <td>No_Intervention</td>\n",
       "    </tr>\n",
       "    <tr>\n",
       "      <th>20600</th>\n",
       "      <td>Ambystoma opacum</td>\n",
       "      <td>Yellowstone National Park</td>\n",
       "      <td>301</td>\n",
       "      <td>Amphibian</td>\n",
       "      <td>Marbled Salamander</td>\n",
       "      <td>No_Intervention</td>\n",
       "    </tr>\n",
       "    <tr>\n",
       "      <th>16144</th>\n",
       "      <td>Notophthalmus viridescens viridescens</td>\n",
       "      <td>Yellowstone National Park</td>\n",
       "      <td>291</td>\n",
       "      <td>Amphibian</td>\n",
       "      <td>Eastern Red-Spotted Newt</td>\n",
       "      <td>No_Intervention</td>\n",
       "    </tr>\n",
       "    <tr>\n",
       "      <th>4753</th>\n",
       "      <td>Ambystoma mavortium melanostictum</td>\n",
       "      <td>Yellowstone National Park</td>\n",
       "      <td>287</td>\n",
       "      <td>Amphibian</td>\n",
       "      <td>Blotched Tiger Salamander</td>\n",
       "      <td>No_Intervention</td>\n",
       "    </tr>\n",
       "    <tr>\n",
       "      <th>16921</th>\n",
       "      <td>Pseudotriton ruber schencki</td>\n",
       "      <td>Yellowstone National Park</td>\n",
       "      <td>282</td>\n",
       "      <td>Amphibian</td>\n",
       "      <td>Blackchin Red Salamander</td>\n",
       "      <td>No_Intervention</td>\n",
       "    </tr>\n",
       "    <tr>\n",
       "      <th>20589</th>\n",
       "      <td>Batrachoseps diabolicus</td>\n",
       "      <td>Yellowstone National Park</td>\n",
       "      <td>282</td>\n",
       "      <td>Amphibian</td>\n",
       "      <td>Hell Hollow Slender Salamander</td>\n",
       "      <td>No_Intervention</td>\n",
       "    </tr>\n",
       "    <tr>\n",
       "      <th>22165</th>\n",
       "      <td>Chrysemys picta bellii</td>\n",
       "      <td>Yellowstone National Park</td>\n",
       "      <td>307</td>\n",
       "      <td>Reptile</td>\n",
       "      <td>Western Painted Turtle</td>\n",
       "      <td>No_Intervention</td>\n",
       "    </tr>\n",
       "    <tr>\n",
       "      <th>20767</th>\n",
       "      <td>Thamnophis sirtalis fitchi</td>\n",
       "      <td>Yellowstone National Park</td>\n",
       "      <td>299</td>\n",
       "      <td>Reptile</td>\n",
       "      <td>Valley Garter Snake</td>\n",
       "      <td>No_Intervention</td>\n",
       "    </tr>\n",
       "    <tr>\n",
       "      <th>6784</th>\n",
       "      <td>Masticophis lateralis lateralis</td>\n",
       "      <td>Yellowstone National Park</td>\n",
       "      <td>288</td>\n",
       "      <td>Reptile</td>\n",
       "      <td>California Striped Racer (Whipsnake)</td>\n",
       "      <td>No_Intervention</td>\n",
       "    </tr>\n",
       "    <tr>\n",
       "      <th>8085</th>\n",
       "      <td>Trachemys scripta</td>\n",
       "      <td>Yellowstone National Park</td>\n",
       "      <td>276</td>\n",
       "      <td>Reptile</td>\n",
       "      <td>Slider</td>\n",
       "      <td>No_Intervention</td>\n",
       "    </tr>\n",
       "    <tr>\n",
       "      <th>10902</th>\n",
       "      <td>Coluber constrictor</td>\n",
       "      <td>Yellowstone National Park</td>\n",
       "      <td>272</td>\n",
       "      <td>Reptile</td>\n",
       "      <td>Racer</td>\n",
       "      <td>No_Intervention</td>\n",
       "    </tr>\n",
       "  </tbody>\n",
       "</table>\n",
       "</div>"
      ],
      "text/plain": [
       "                             scientific_name                  park_name  \\\n",
       "11604                 Lycopodium tristachyum  Yellowstone National Park   \n",
       "5498                      Castilleja miniata  Yellowstone National Park   \n",
       "3363                     Cryptantha fendleri  Yellowstone National Park   \n",
       "22211              Dracocephalum parviflorum  Yellowstone National Park   \n",
       "20317                      Bidens tripartita  Yellowstone National Park   \n",
       "2476                        Spinus lawrencei  Yellowstone National Park   \n",
       "16419                       Aythya americana  Yellowstone National Park   \n",
       "6069                           Perdix perdix  Yellowstone National Park   \n",
       "11477                     Myiarchus crinitus  Yellowstone National Park   \n",
       "21679                     Setophaga coronata  Yellowstone National Park   \n",
       "19951                Pogonatum brachyphyllum  Yellowstone National Park   \n",
       "23300              Forsstroemia trichomitria  Yellowstone National Park   \n",
       "3111                            Ulota crispa  Yellowstone National Park   \n",
       "3916                   Platylomella lescurii  Yellowstone National Park   \n",
       "13853                    Lophocolea muricata  Yellowstone National Park   \n",
       "3721                       Lasiurus borealis  Yellowstone National Park   \n",
       "13561                  Vulpes vulpes necator  Yellowstone National Park   \n",
       "12279                         Sorex cinereus  Yellowstone National Park   \n",
       "12280                         Sorex cinereus  Yellowstone National Park   \n",
       "18678                      Neotamias amoenus  Yellowstone National Park   \n",
       "11757                 Etheostoma sanguifluum  Yellowstone National Park   \n",
       "2503                            Gila atraria  Yellowstone National Park   \n",
       "3580                     Notropis photogenis  Yellowstone National Park   \n",
       "15135                   Etheostoma swannanoa  Yellowstone National Park   \n",
       "1180                  Stizostedion canadense  Yellowstone National Park   \n",
       "20600                       Ambystoma opacum  Yellowstone National Park   \n",
       "16144  Notophthalmus viridescens viridescens  Yellowstone National Park   \n",
       "4753       Ambystoma mavortium melanostictum  Yellowstone National Park   \n",
       "16921            Pseudotriton ruber schencki  Yellowstone National Park   \n",
       "20589                Batrachoseps diabolicus  Yellowstone National Park   \n",
       "22165                 Chrysemys picta bellii  Yellowstone National Park   \n",
       "20767             Thamnophis sirtalis fitchi  Yellowstone National Park   \n",
       "6784         Masticophis lateralis lateralis  Yellowstone National Park   \n",
       "8085                       Trachemys scripta  Yellowstone National Park   \n",
       "10902                    Coluber constrictor  Yellowstone National Park   \n",
       "\n",
       "       observations           category  \\\n",
       "11604           321     Vascular Plant   \n",
       "5498            317     Vascular Plant   \n",
       "3363            316     Vascular Plant   \n",
       "22211           316     Vascular Plant   \n",
       "20317           314     Vascular Plant   \n",
       "2476            305               Bird   \n",
       "16419           304               Bird   \n",
       "6069            300               Bird   \n",
       "11477           298               Bird   \n",
       "21679           298               Bird   \n",
       "19951           307  Nonvascular Plant   \n",
       "23300           300  Nonvascular Plant   \n",
       "3111            293  Nonvascular Plant   \n",
       "3916            293  Nonvascular Plant   \n",
       "13853           293  Nonvascular Plant   \n",
       "3721            296             Mammal   \n",
       "13561           294             Mammal   \n",
       "12279           293             Mammal   \n",
       "12280           293             Mammal   \n",
       "18678           293             Mammal   \n",
       "11757           300               Fish   \n",
       "2503            296               Fish   \n",
       "3580            294               Fish   \n",
       "15135           293               Fish   \n",
       "1180            286               Fish   \n",
       "20600           301          Amphibian   \n",
       "16144           291          Amphibian   \n",
       "4753            287          Amphibian   \n",
       "16921           282          Amphibian   \n",
       "20589           282          Amphibian   \n",
       "22165           307            Reptile   \n",
       "20767           299            Reptile   \n",
       "6784            288            Reptile   \n",
       "8085            276            Reptile   \n",
       "10902           272            Reptile   \n",
       "\n",
       "                                            common_names conservation_status  \n",
       "11604                   Deep-Root Clubmoss, Ground Cedar     No_Intervention  \n",
       "5498   Giant Red Indian Paintbrush, Great Red Indian ...     No_Intervention  \n",
       "3363   Fendler's Cryptantha, Sanddune Catseye, Sanddu...     No_Intervention  \n",
       "22211                                American Dragonhead     No_Intervention  \n",
       "20317               Stick-Tight, Three-Lobe Beggar-Ticks     No_Intervention  \n",
       "2476                                Lawrence's Goldfinch     No_Intervention  \n",
       "16419                                            Redhead     No_Intervention  \n",
       "6069                      Gray Partridge, Grey Partridge     No_Intervention  \n",
       "11477                           Great Crested Flycatcher     No_Intervention  \n",
       "21679                              Yellow-Rumped Warbler     No_Intervention  \n",
       "19951                                     Pogonatum Moss     No_Intervention  \n",
       "23300                                  Forsstroemia Moss     No_Intervention  \n",
       "3111                                          Ulota Moss     No_Intervention  \n",
       "3916                          Lescur's Platylomella Moss     No_Intervention  \n",
       "13853                                          Liverwort     No_Intervention  \n",
       "3721                            Eastern Red Bat, Red Bat     No_Intervention  \n",
       "13561                              Sierra Nevada Red Fox     No_Intervention  \n",
       "12279                         Common Shrew, Masked Shrew     No_Intervention  \n",
       "12280         Cinereus Shrew, Common Shrew, Masked Shrew     No_Intervention  \n",
       "18678                               Yellow Pine Chipmunk     No_Intervention  \n",
       "11757                    Bloodfin Darter, Spotted Darter     No_Intervention  \n",
       "2503                                           Utah Chub     No_Intervention  \n",
       "3580                                       Silver Shiner     No_Intervention  \n",
       "15135                                   Swannanoa Darter     No_Intervention  \n",
       "1180                                              Sauger     No_Intervention  \n",
       "20600                                 Marbled Salamander     No_Intervention  \n",
       "16144                           Eastern Red-Spotted Newt     No_Intervention  \n",
       "4753                           Blotched Tiger Salamander     No_Intervention  \n",
       "16921                           Blackchin Red Salamander     No_Intervention  \n",
       "20589                     Hell Hollow Slender Salamander     No_Intervention  \n",
       "22165                             Western Painted Turtle     No_Intervention  \n",
       "20767                                Valley Garter Snake     No_Intervention  \n",
       "6784                California Striped Racer (Whipsnake)     No_Intervention  \n",
       "8085                                              Slider     No_Intervention  \n",
       "10902                                              Racer     No_Intervention  "
      ]
     },
     "execution_count": 26,
     "metadata": {},
     "output_type": "execute_result"
    }
   ],
   "source": [
    "new_data = []\n",
    "for i in species_info.category.value_counts().index:\n",
    "    new_data.append(all_data[all_data.category==i].head())\n",
    "\n",
    "new_data = pd.concat(new_data)\n",
    "new_data"
   ]
  },
  {
   "cell_type": "markdown",
   "metadata": {},
   "source": [
    "## A function that takes in a range of 2 values and returns a dataframe with observations in that given range"
   ]
  },
  {
   "cell_type": "code",
   "execution_count": 27,
   "metadata": {},
   "outputs": [
    {
     "data": {
      "text/html": [
       "<div>\n",
       "<style scoped>\n",
       "    .dataframe tbody tr th:only-of-type {\n",
       "        vertical-align: middle;\n",
       "    }\n",
       "\n",
       "    .dataframe tbody tr th {\n",
       "        vertical-align: top;\n",
       "    }\n",
       "\n",
       "    .dataframe thead th {\n",
       "        text-align: right;\n",
       "    }\n",
       "</style>\n",
       "<table border=\"1\" class=\"dataframe\">\n",
       "  <thead>\n",
       "    <tr style=\"text-align: right;\">\n",
       "      <th></th>\n",
       "      <th>scientific_name</th>\n",
       "      <th>park_name</th>\n",
       "      <th>observations</th>\n",
       "    </tr>\n",
       "  </thead>\n",
       "  <tbody>\n",
       "    <tr>\n",
       "      <th>9418</th>\n",
       "      <td>Corydalis aurea</td>\n",
       "      <td>Bryce National Park</td>\n",
       "      <td>9</td>\n",
       "    </tr>\n",
       "    <tr>\n",
       "      <th>15511</th>\n",
       "      <td>Collomia tinctoria</td>\n",
       "      <td>Great Smoky Mountains National Park</td>\n",
       "      <td>10</td>\n",
       "    </tr>\n",
       "  </tbody>\n",
       "</table>\n",
       "</div>"
      ],
      "text/plain": [
       "          scientific_name                            park_name  observations\n",
       "9418      Corydalis aurea                  Bryce National Park             9\n",
       "15511  Collomia tinctoria  Great Smoky Mountains National Park            10"
      ]
     },
     "execution_count": 27,
     "metadata": {},
     "output_type": "execute_result"
    }
   ],
   "source": [
    "def observations_range(lowerbound, upperbound):\n",
    "    return observations[(observations.observations>= int(lowerbound)) & (observations.observations<= int(upperbound))]\n",
    "\n",
    "observations_range(0, 10)"
   ]
  }
 ],
 "metadata": {
  "kernelspec": {
   "display_name": "Python 3.8.8 ('base')",
   "language": "python",
   "name": "python3"
  },
  "language_info": {
   "codemirror_mode": {
    "name": "ipython",
    "version": 3
   },
   "file_extension": ".py",
   "mimetype": "text/x-python",
   "name": "python",
   "nbconvert_exporter": "python",
   "pygments_lexer": "ipython3",
   "version": "3.8.8"
  },
  "orig_nbformat": 4,
  "vscode": {
   "interpreter": {
    "hash": "4e120a2795ec3078a163ee061c69cc18463e6899364d955c2060010f8d02ce7b"
   }
  }
 },
 "nbformat": 4,
 "nbformat_minor": 2
}
